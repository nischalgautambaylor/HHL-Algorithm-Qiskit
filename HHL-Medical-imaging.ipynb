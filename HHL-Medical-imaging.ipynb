{
 "cells": [
  {
   "cell_type": "markdown",
   "id": "c5f5fe19",
   "metadata": {},
   "source": [
    "# CT Scan Image Reconstruction: ART vs HHL"
   ]
  },
  {
   "cell_type": "markdown",
   "id": "2678990d",
   "metadata": {},
   "source": [
    "## Author: Nischal Gautam"
   ]
  },
  {
   "cell_type": "markdown",
   "id": "8221a05f",
   "metadata": {},
   "source": [
    "### Description: This notebook demonstrates tomographic reconstruction of a simple 2×2 phantom using Algebraic Reconstruction Technique (ART) and the Quantum Harrow-Hassidim-Lloyd (HHL) algorithm implemented via Qiskit."
   ]
  },
  {
   "cell_type": "markdown",
   "id": "cb469087",
   "metadata": {},
   "source": [
    "Imports"
   ]
  },
  {
   "cell_type": "code",
   "execution_count": 1,
   "id": "f5e7d2e8",
   "metadata": {},
   "outputs": [],
   "source": [
    "# Copyright (c) 2025 Nischal Gautam\n",
    "\n",
    "import numpy as np\n",
    "import matplotlib.pyplot as plt\n",
    "import math\n",
    "from math import pi, asin\n",
    "from scipy.linalg import expm\n",
    "from skimage.transform import radon\n",
    "from qiskit import QuantumCircuit, QuantumRegister, ClassicalRegister\n",
    "from qiskit.quantum_info import Statevector, Operator\n"
   ]
  },
  {
   "cell_type": "markdown",
   "id": "b282b01d",
   "metadata": {},
   "source": [
    "Generate Phantom and  Sinogram"
   ]
  },
  {
   "cell_type": "code",
   "execution_count": null,
   "id": "22b449e7",
   "metadata": {},
   "outputs": [],
   "source": [
    "# Create a simple 2×2 phantom image\n",
    "phantom2 = np.array([[1, 2],\n",
    "                     [3, 4]], float)\n",
    "\n",
    "# Compute sinogram using Radon transform from 0° to 180°\n",
    "angles   = np.arange(0, 181, 1)\n",
    "sinogram = radon(phantom2, theta=angles, circle=False)\n",
    "\n",
    "# Plot the sinogram\n",
    "plt.figure(figsize=(4, 3))\n",
    "plt.imshow(sinogram,\n",
    "           extent=(angles.min(), angles.max(), 0, sinogram.shape[0]),\n",
    "           cmap='gray', aspect='auto')\n",
    "plt.title('Sinogram of 2x2 Phantom')\n",
    "plt.xlabel('Projection Angle (°)')\n",
    "plt.ylabel('Detector Position')\n",
    "plt.tight_layout()\n",
    "plt.show()\n"
   ]
  },
  {
   "cell_type": "markdown",
   "id": "d413e593",
   "metadata": {},
   "source": [
    "Build Projection Matrix and Measurement Vector"
   ]
  },
  {
   "cell_type": "code",
   "execution_count": null,
   "id": "09652ee4",
   "metadata": {},
   "outputs": [],
   "source": [
    "# Define pixel coordinates for 2x2 image\n",
    "coords = np.array([[-0.5, -0.5],\n",
    "                   [ 0.5, -0.5],\n",
    "                   [-0.5,  0.5],\n",
    "                   [ 0.5,  0.5]])\n",
    "\n",
    "# Build projection matrix A4 and measurement vector b4 for 0° and 90°\n",
    "A4, b4 = [], []\n",
    "for phi_deg in [0, 90]:\n",
    "    phi = math.radians(phi_deg)\n",
    "    for det in range(2):\n",
    "        d = det - 0.5\n",
    "        row, val = [], 0.0\n",
    "        for pix, (x, y) in enumerate(coords):\n",
    "            hit = float(abs(d - (x*math.cos(phi) + y*math.sin(phi))) < 1e-6)\n",
    "            row.append(hit)\n",
    "            val += hit * phantom2.flatten()[pix]\n",
    "        A4.append(row)\n",
    "        b4.append(val)\n",
    "A4 = np.array(A4)\n",
    "b4 = np.array(b4)\n"
   ]
  },
  {
   "cell_type": "markdown",
   "id": "6371513d",
   "metadata": {},
   "source": [
    "Algebraic Reconstruction Technique (ART)"
   ]
  },
  {
   "cell_type": "code",
   "execution_count": null,
   "id": "9fd32a67",
   "metadata": {},
   "outputs": [],
   "source": [
    "# Simple ART solver for Ax = b\n",
    "iters, relax = 10, 1.0\n",
    "x_art = np.zeros(4)\n",
    "for _ in range(iters):\n",
    "    for i in range(4):\n",
    "        ai = A4[i]\n",
    "        n2 = ai.dot(ai)\n",
    "        if n2 > 0:\n",
    "            r = b4[i] - ai.dot(x_art)\n",
    "            x_art += relax * (r / n2) * ai\n",
    "art_recon = x_art.reshape(2, 2)\n"
   ]
  },
  {
   "cell_type": "markdown",
   "id": "5779ad0d",
   "metadata": {},
   "source": [
    "Setup for HHL Algorithm"
   ]
  },
  {
   "cell_type": "code",
   "execution_count": null,
   "id": "e150af8b",
   "metadata": {},
   "outputs": [],
   "source": [
    "# Hermitian matrix and normalized vector for HHL\n",
    "A_herm = A4.T @ A4 + np.eye(4)\n",
    "b_herm = A4.T @ b4\n",
    "b_norm = b_herm / np.linalg.norm(b_herm)\n",
    "\n",
    "# Time scaling factor from max eigenvalue\n",
    "λ_max = max(np.linalg.eigvals(A_herm).real)\n",
    "t0    = 2 * pi / λ_max\n",
    "\n",
    "# Precompute U = exp(i*A*t) for QPE\n",
    "U_ops = [\n",
    "    Operator(expm(1j * A_herm * (2**k) * t0)).to_instruction().control(1)\n",
    "    for k in range(5)\n",
    "]\n"
   ]
  },
  {
   "cell_type": "markdown",
   "id": "06691417",
   "metadata": {},
   "source": [
    "Define QFT and QPE Subroutines"
   ]
  },
  {
   "cell_type": "code",
   "execution_count": null,
   "id": "762dafc1",
   "metadata": {},
   "outputs": [],
   "source": [
    "# Quantum registers\n",
    "anc   = QuantumRegister(1, 'anc')\n",
    "clk   = QuantumRegister(5, 'clk')   # 5 clock qubits\n",
    "sysq  = QuantumRegister(2, 'sys')\n",
    "creg  = ClassicalRegister(3, 'c')\n",
    "qc    = QuantumCircuit(anc, clk, sysq, creg)\n",
    "\n",
    "# QFT (Quantum Fourier Transform)\n",
    "def qft(circ):\n",
    "    circ.barrier(label=\"QFT-start\")\n",
    "    for i in range(5 // 2):\n",
    "        circ.swap(clk[i], clk[4 - i])\n",
    "    for j in range(5):\n",
    "        circ.h(clk[j])\n",
    "        for k in range(j+1, 5):\n",
    "            circ.cp(pi / 2**(k-j), clk[k], clk[j])\n",
    "    circ.barrier(label=\"QFT-end\")\n",
    "\n",
    "# Inverse QFT\n",
    "def qft_dg(circ):\n",
    "    circ.barrier(label=\"iQFT-start\")\n",
    "    for j in reversed(range(5)):\n",
    "        for k in reversed(range(j+1, 5)):\n",
    "            circ.cp(-pi / 2**(k-j), clk[k], clk[j])\n",
    "        circ.h(clk[j])\n",
    "    for i in range(5 // 2):\n",
    "        circ.swap(clk[i], clk[4 - i])\n",
    "    circ.barrier(label=\"iQFT-end\")\n"
   ]
  },
  {
   "cell_type": "markdown",
   "id": "f08b51bb",
   "metadata": {},
   "source": [
    "Define QPE, and InvQPE Subroutines"
   ]
  },
  {
   "cell_type": "code",
   "execution_count": null,
   "id": "a5979305",
   "metadata": {},
   "outputs": [],
   "source": [
    "# Quantum Phase Estimation\n",
    "def qpe(circ):\n",
    "    circ.barrier(label=\"QPE-start\")\n",
    "    circ.h(clk)\n",
    "    circ.barrier(label=\"QPE-H\")\n",
    "    for k in range(5):\n",
    "        circ.append(U_ops[k], [clk[k], *sysq])\n",
    "    circ.barrier(label=\"QPE-U\")\n",
    "    qft_dg(circ)\n",
    "    circ.barrier(label=\"QPE-end\")\n",
    "\n",
    "# Inverse QPE\n",
    "def inv_qpe(circ):\n",
    "    circ.barrier(label=\"InvQPE-start\")\n",
    "    qft(circ)\n",
    "    for k in reversed(range(5)):\n",
    "        circ.append(U_ops[k].inverse(), [clk[k], *sysq])\n",
    "    circ.barrier(label=\"InvQPE-end\")\n",
    "\n"
   ]
  },
  {
   "cell_type": "markdown",
   "id": "e39372bb",
   "metadata": {},
   "source": [
    "Define HHL Subroutine"
   ]
  },
  {
   "cell_type": "code",
   "execution_count": null,
   "id": "a4a7fb1c",
   "metadata": {},
   "outputs": [],
   "source": [
    "# HHL Subroutine\n",
    "def hhl(circ):\n",
    "    circ.barrier(label=\"HHL-init\")\n",
    "    circ.initialize(b_norm, sysq)\n",
    "    qpe(circ)\n",
    "    circ.barrier(label=\"Rot-start\")\n",
    "    # Eigenvalue inverse encoding (example: simplified for 3 eigenvalues)\n",
    "    phase_to_lambda = {0b00110:1, 0b10011:3, 0b00000:5}\n",
    "    for pat, lam in phase_to_lambda.items():\n",
    "        theta = 2 * asin(1/lam)\n",
    "        bits  = format(pat, '05b')\n",
    "        for i, bit in enumerate(reversed(bits)):\n",
    "            if bit == '0':\n",
    "                circ.x(clk[i])\n",
    "        circ.mcry(theta, clk, anc[0])\n",
    "        for i, bit in enumerate(reversed(bits)):\n",
    "            if bit == '0':\n",
    "                circ.x(clk[i])\n",
    "    circ.barrier(label=\"Rot-end\")\n",
    "    inv_qpe(circ)\n",
    "    circ.measure(anc, creg[0])\n",
    "    circ.barrier(label=\"HHL-complete\")"
   ]
  },
  {
   "cell_type": "markdown",
   "id": "701c5450",
   "metadata": {},
   "source": [
    "Build and Visualize Quantum Circuit"
   ]
  },
  {
   "cell_type": "code",
   "execution_count": null,
   "id": "d74e7cf0",
   "metadata": {},
   "outputs": [],
   "source": [
    "qc.barrier(label=\"Start\")\n",
    "hhl(qc)\n",
    "qc.measure(sysq[0], creg[1])\n",
    "qc.measure(sysq[1], creg[2])\n",
    "qc.barrier(label=\"End\")\n",
    "\n",
    "# Draw circuit\n",
    "qc.draw('mpl', fold=33)\n"
   ]
  },
  {
   "cell_type": "markdown",
   "id": "12a445df",
   "metadata": {},
   "source": [
    "Postselect & Extract HHL Solution"
   ]
  },
  {
   "cell_type": "code",
   "execution_count": null,
   "id": "2bbddb81",
   "metadata": {},
   "outputs": [],
   "source": [
    "# Remove final measurements for simulation\n",
    "qc_nom = qc.remove_final_measurements(inplace=False)\n",
    "\n",
    "# Simulate the quantum circuit\n",
    "state  = Statevector.from_instruction(qc_nom)\n",
    "\n",
    "# Reshape to access subsystem: ancilla • clk0–4 • sys0 • sys1\n",
    "tensor = state.data.reshape([2]*8)\n",
    "\n",
    "# Post-select on ancilla=1, marginalize over clock qubits\n",
    "sys_amps = tensor[1].sum(axis=(0,1,2,3,4))\n",
    "\n",
    "# Normalize and scale the output\n",
    "vec = sys_amps.flatten()\n",
    "vec /= np.linalg.norm(vec)\n",
    "vec *= (1.0 / vec[0].real)\n",
    "\n",
    "# Reorder amplitudes and reshape\n",
    "x_qhl = vec[[3,1,2,0]].reshape(2,2)\n",
    "hhl_recon = np.real(x_qhl)\n"
   ]
  },
  {
   "cell_type": "markdown",
   "id": "292d4d5e",
   "metadata": {},
   "source": [
    "Plot Final Reconstructions"
   ]
  },
  {
   "cell_type": "code",
   "execution_count": null,
   "id": "978574b1",
   "metadata": {},
   "outputs": [],
   "source": [
    "# Show phantom, ART, and HHL reconstructions\n",
    "fig, axes = plt.subplots(1, 3, figsize=(9, 3))\n",
    "axes[0].imshow(phantom2,   cmap='gray'); axes[0].set_title('Original Phantom');    axes[0].axis('off')\n",
    "axes[1].imshow(art_recon,  cmap='gray'); axes[1].set_title('ART Reconstruction');  axes[1].axis('off')\n",
    "axes[2].imshow(hhl_recon,  cmap='gray'); axes[2].set_title('HHL Reconstruction');  axes[2].axis('off')\n",
    "plt.tight_layout()\n",
    "plt.show()\n"
   ]
  }
 ],
 "metadata": {
  "kernelspec": {
   "display_name": "test",
   "language": "python",
   "name": "python3"
  },
  "language_info": {
   "codemirror_mode": {
    "name": "ipython",
    "version": 3
   },
   "file_extension": ".py",
   "mimetype": "text/x-python",
   "name": "python",
   "nbconvert_exporter": "python",
   "pygments_lexer": "ipython3",
   "version": "3.10.15"
  }
 },
 "nbformat": 4,
 "nbformat_minor": 5
}
